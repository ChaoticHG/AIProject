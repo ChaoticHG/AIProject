{
 "cells": [
  {
   "cell_type": "markdown",
   "metadata": {},
   "source": [
    "<img src=\"tic3151.png\" style=\"height: 70px; width: 200px\" align=left> \n",
    "<img src=\"logo-MMU.png\" style=\"height: 70px; width: 200px\" align=right>  \n",
    "\n"
   ]
  },
  {
   "cell_type": "markdown",
   "metadata": {},
   "source": [
    "# **Lab 5: Introduction to GA**\n",
    "\n",
    "Towards the end of this lesson, you should be able to program in:\n",
    "- Design GA solution for problems\n",
    "- Code GA in Python\n",
    "- Execute sample problems\n",
    "\n",
    "https://jooskorstanje.com/Genetic-Algorithm-from-scratch.html"
   ]
  },
  {
   "cell_type": "markdown",
   "metadata": {},
   "source": [
    "# Scenario\n",
    "\n",
    "Let's try to create a list of $N$ numbers that equal $X$ when summed together.\n",
    "\n",
    "If we set ``N = 5`` and ``X = 200``, then these would all be appropriate solutions.\n",
    "\n",
    "Any one of these can be the solution:\n",
    "- lst = [40,40,40,40,40]\n",
    "- lst = [50,50,50,25,25]\n",
    "- lst = [200,0,0,0,0]\n",
    "\n",
    "https://lethain.com/genetic-algorithms-cool-name-damn-simple/"
   ]
  },
  {
   "cell_type": "markdown",
   "metadata": {},
   "source": [
    "# Population and Individuals\n",
    "\n",
    "Each suggested solution for a genetic algorithm is referred to as an individual. In our current problem, each list of $N$ numbers is an individual."
   ]
  },
  {
   "cell_type": "code",
   "execution_count": 1,
   "metadata": {},
   "outputs": [
    {
     "name": "stdout",
     "output_type": "stream",
     "text": [
      "[61, 87, 9, 97, 56]\n",
      "[57, 69, 86, 58, 77]\n"
     ]
    }
   ],
   "source": [
    "# Create an individual. An individual is a member of a population.\n",
    "\n",
    "from random import randint\n",
    "import random\n",
    "\n",
    "def individual(length, min, max):\n",
    "    return [randint(min,max) for x in range(length)]\n",
    " \n",
    "print(individual(5,0,100))\n",
    "print(individual(5,0,100))"
   ]
  },
  {
   "cell_type": "markdown",
   "metadata": {},
   "source": [
    "The collection of all individuals is referred to as our population."
   ]
  },
  {
   "cell_type": "code",
   "execution_count": null,
   "metadata": {},
   "outputs": [],
   "source": [
    "'''\n",
    "count: the number of individuals in the population\n",
    "length: the number of values per individual\n",
    "min: the min possible value in an individual's list of values\n",
    "max: the max possible value in an individual's list of values\n",
    "'''\n",
    "\n",
    "def population(count, length, min, max):\n",
    "    return [individual(length, min, max) for x in range(count)]\n",
    "\n",
    "population(3,5,0,100)"
   ]
  },
  {
   "cell_type": "markdown",
   "metadata": {},
   "source": [
    "# Fitness Function"
   ]
  },
  {
   "cell_type": "markdown",
   "metadata": {},
   "source": [
    "Next we need a way to judge the how effective each solution is; to judge the fitness of each individual. \n",
    "\n",
    "We call this the fitness function. \n",
    "\n",
    "For our problem, we want the fitness to be *a function of the distance between the sum of an individuals numbers and the target number $X$*.\n"
   ]
  },
  {
   "cell_type": "code",
   "execution_count": null,
   "metadata": {},
   "outputs": [],
   "source": [
    "# Design the fitness function for an individual\n",
    "\n",
    "'''\n",
    "Determine the fitness of an individual. Lower is better.\n",
    "individual: the individual to evaluate.\n",
    "target: the sum of numbers that individuals are aiming for.\n",
    "'''\n",
    "\n",
    "# your answer here...\n",
    "\n",
    "def fitness(individual, target):\n",
    "    total = sum(individual)\n",
    "    return abs(target - total)\n",
    "\n",
    "x = individual(5,0,100)\n",
    "print(x)\n",
    "fitness(x, 200)"
   ]
  },
  {
   "cell_type": "code",
   "execution_count": null,
   "metadata": {},
   "outputs": [],
   "source": [
    "# Design the fitness function to retrieve average fitness for a population\n",
    "\n",
    "# your answer here...\n",
    "def grade(pop, target):\n",
    "    summed = [sum(i) - target for i in pop]\n",
    "    return (sum(summed) / len(pop))\n",
    "\n",
    "x = x = population(3,5,0,100)\n",
    "target = 200\n",
    "print(x)\n",
    "grade(x, target)"
   ]
  },
  {
   "cell_type": "markdown",
   "metadata": {},
   "source": [
    "# Evolution\n",
    "\n",
    "Now we just need a way to evolve our population; to advance the population from one generation to the next. The characteristics of **evolution** are:\n",
    "\n",
    "- For each generation we'll take a portion of the best performing individuals as judged by our fitness function. These high-performers will be the parents of the next generation. We'll also randomly select some lesser performing individuals to be parents, because we want to promote genetic diversity. Abandoning the metaphor, one of the dangers of optimization algorithms is getting stuck at a local maximum and consequently being unable to find the real maximum. By including some individuals who are not performing as well, we decrease our likelihood of getting stuck.\n",
    "- Breed together parents to repopulate the population to its desired size (if you take the top 20 individuals in a population of 100, then you'd need to create 80 new children via breeding). In our case, breeding is pretty basic: take the first $N/2$ digits from the father and the last $N/2$ digits from the mother.\n",
    "- It's okay to have one parent breed multiple times, but one parent should never be both the father and mother of a child.\n",
    "- Merge together the parents and children to constitute the next generation's population.\n",
    "- Finally we mutate a small random portion of the population. What this means is to have a probability of randomly modifying each individual.\n"
   ]
  },
  {
   "cell_type": "code",
   "execution_count": null,
   "metadata": {},
   "outputs": [],
   "source": [
    "# one of the many ways of breeding\n",
    "\n",
    "father = [1,2,3,4,5,6]\n",
    "mother = [10,20,30,40,50,60]\n",
    "child = father[:3] + mother[3:]\n",
    "child"
   ]
  },
  {
   "cell_type": "code",
   "execution_count": null,
   "metadata": {},
   "outputs": [],
   "source": [
    "# Evolution function\n",
    "\n",
    "def evolve(pop, target, retain=0.2, random_select=0.05, mutate=0.01):\n",
    "    \n",
    "    # your answer here...\n",
    "    graded = [(fitness(x, target), x) for x in pop]\n",
    "    graded = [x[1] for x in sorted(graded)]    # x[1] because x has two components, just take the list -> eg: [(50, [41, 38, 86, 30, 55])]\n",
    "    retain_length = int(len(graded) * retain)    # how many top % parents to be remained.\n",
    "    parents = graded[0:retain_length]    # get the list of array of individuals as parents - after sorted\n",
    "    \n",
    "    # randomly add other individuals to promote genetic diversity\n",
    "    for individual in graded[retain_length:]:    # get from the remaining individuals NOT selected as parents initially!\n",
    "        if random_select > random.random():\n",
    "            parents.append(individual)\n",
    "            \n",
    "    # mutate some individuals\n",
    "    for individual in parents:\n",
    "        if mutate > random.random():\n",
    "            pos_to_mutate = randint(0, len(individual) - 1)\n",
    "            # this mutation is not ideal, because it\n",
    "            # restricts the range of possible values,\n",
    "            # but the function is unaware of the MIN/MAX\n",
    "            # values used to create the individuals.\n",
    "            individual[pos_to_mutate] = randint(min(individual), max(individual))\n",
    "            \n",
    "    # crossover parents to create children\n",
    "    parents_length = len(parents)\n",
    "    desired_length = len(pop) - parents_length    # assuming that you need to make sure you have enough individuals\n",
    "    children = []\n",
    "    while len(children) < desired_length:\n",
    "        male = randint(0, parents_length - 1)\n",
    "        female = randint(0, parents_length - 1)\n",
    "        if male != female:\n",
    "            male = parents[male]\n",
    "            female = parents[female]\n",
    "            half = int(len(male) / 2)\n",
    "            child = male[:half] + female[half:]\n",
    "            children.append(child)\n",
    "            \n",
    "    parents.extend(children)\n",
    "    return parents"
   ]
  },
  {
   "cell_type": "markdown",
   "metadata": {},
   "source": [
    "# Example Usage"
   ]
  },
  {
   "cell_type": "code",
   "execution_count": null,
   "metadata": {},
   "outputs": [],
   "source": [
    "value_lst =[]\n",
    "fitness_history = []\n",
    "\n",
    "target = 100\n",
    "p_count = 100\n",
    "i_length = 6\n",
    "i_min = 0\n",
    "i_max = 100\n",
    "n_generation = 100\n",
    "\n",
    "p = population(p_count, i_length, i_min, i_max)\n",
    "\n",
    "# your answer here...\n",
    "for i in range(n_generation):\n",
    "    p = evolve(p, target)\n",
    "    value = grade(p, target)\n",
    "    fitness_history.append(value)\n",
    "    value_lst.append(p[0])\n",
    "    value_lst.append(value)\n",
    "    \n",
    "for datum in fitness_history:\n",
    "    print(datum)\n",
    "    \n",
    "value_lst"
   ]
  },
  {
   "cell_type": "code",
   "execution_count": null,
   "metadata": {},
   "outputs": [],
   "source": [
    "value_lst"
   ]
  },
  {
   "cell_type": "markdown",
   "metadata": {},
   "source": [
    "# Exercise\n",
    "\n",
    "Enhance the above codes to include:\n",
    "\n",
    "1. plot a line chart to show the fitness values\n",
    "2. investigate different population sizes on fitness values\n",
    "3. extract the *individual* that has minimum fitness value.\n",
    "\n"
   ]
  },
  {
   "cell_type": "markdown",
   "metadata": {},
   "source": [
    "# Using GA package"
   ]
  },
  {
   "cell_type": "markdown",
   "metadata": {},
   "source": [
    "### Install the PyGAD library by \"pip install pygad\"\n",
    "\n",
    "https://neptune.ai/blog/adaptive-mutation-in-genetic-algorithm-with-python-examples"
   ]
  },
  {
   "cell_type": "markdown",
   "metadata": {},
   "source": [
    "### The Scenario"
   ]
  },
  {
   "cell_type": "markdown",
   "metadata": {},
   "source": [
    "Suppose that we want to optimise the following equation given 4 input and 1 output:\n",
    "\n",
    "$Y = w_1X_1 + w_2X_2 + w_3X_3 + w_4X_4$\n",
    "\n",
    "- num_generations=100: Number of generations.\n",
    "- sol_per_pop=5: Population size.\n",
    "- num_genes=4: Number of genes.\n",
    "- num_parents_mating=2: Number of parents to mate.\n",
    "- fitness_func=fitness_func: Fitness function.\n",
    "- mutation_type=\"random\": Type of mutation operation which already defaults to random.\n",
    "\n",
    "The fitness function is named fitness_func() and it must accept 2 parameters. This function should return a number representing the solution’s fitness. The higher this value, the better the solution. "
   ]
  },
  {
   "cell_type": "code",
   "execution_count": 2,
   "metadata": {},
   "outputs": [
    {
     "name": "stderr",
     "output_type": "stream",
     "text": [
      "C:\\Python310\\lib\\site-packages\\pygad\\pygad.py:469: UserWarning: The percentage of genes to mutate (mutation_percent_genes=10) resutled in selecting (0) genes. The number of genes to mutate is set to 1 (mutation_num_genes=1).\n",
      "If you do not want to mutate any gene, please set mutation_type=None.\n",
      "  if not self.suppress_warnings: warnings.warn(\"The percentage of genes to mutate (mutation_percent_genes={mutation_percent}) resutled in selecting ({mutation_num}) genes. The number of genes to mutate is set to 1 (mutation_num_genes=1).\\nIf you do not want to mutate any gene, please set mutation_type=None.\".format(mutation_percent=mutation_percent_genes, mutation_num=mutation_num_genes))\n"
     ]
    },
    {
     "data": {
      "image/png": "[encoded data removed]",
      "text/plain": [
       "<Figure size 432x288 with 1 Axes>"
      ]
     },
     "metadata": {
      "needs_background": "light"
     },
     "output_type": "display_data"
    },
    {
     "data": {
      "text/plain": [
       "(array([ 2.17018548, -3.85471964,  3.53590286,  3.04880423]),\n",
       " 101.38531380644908,\n",
       " 0)"
      ]
     },
     "execution_count": 2,
     "metadata": {},
     "output_type": "execute_result"
    }
   ],
   "source": [
    "import pygad\n",
    "import numpy\n",
    "\n",
    "function_inputs = [4,-2,3.5,5]\n",
    "desired_output = 44\n",
    "\n",
    "def fitness_func(solution, solution_idx):\n",
    "    output = numpy.sum(solution*function_inputs)\n",
    "    fitness = 1.0 / (numpy.abs(output - desired_output) + 0.000001)    \n",
    "    return fitness\n",
    "\n",
    "ga_instance = pygad.GA(num_generations=100,\n",
    "                       sol_per_pop=5,\n",
    "                       num_genes=4,\n",
    "                       num_parents_mating=2,\n",
    "                       fitness_func=fitness_func,\n",
    "                       mutation_type=\"random\")\n",
    "\n",
    "# this is to execute the ga program\n",
    "# your answer here...\n",
    "ga_instance.run()\n",
    "\n",
    "# this is to plot the charts\n",
    "# your answer here...\n",
    "ga_instance.plot_fitness()\n",
    "\n",
    "# this is the best solution\n",
    "# your answer here...\n",
    "ga_instance.best_solution()"
   ]
  },
  {
   "cell_type": "code",
   "execution_count": 1,
   "metadata": {},
   "outputs": [
    {
     "name": "stdout",
     "output_type": "stream",
     "text": [
      "Collecting pygad\n",
      "  Downloading pygad-2.16.3-py3-none-any.whl (53 kB)\n",
      "     -------------------------------------- 53.6/53.6 KB 687.9 kB/s eta 0:00:00\n",
      "Requirement already satisfied: matplotlib in c:\\python310\\lib\\site-packages (from pygad) (3.5.1)\n",
      "Requirement already satisfied: numpy in c:\\python310\\lib\\site-packages (from pygad) (1.22.1)\n",
      "Requirement already satisfied: pyparsing>=2.2.1 in c:\\python310\\lib\\site-packages (from matplotlib->pygad) (3.0.6)\n",
      "Requirement already satisfied: pillow>=6.2.0 in c:\\python310\\lib\\site-packages (from matplotlib->pygad) (9.0.0)\n",
      "Requirement already satisfied: python-dateutil>=2.7 in c:\\python310\\lib\\site-packages (from matplotlib->pygad) (2.8.2)\n",
      "Requirement already satisfied: packaging>=20.0 in c:\\python310\\lib\\site-packages (from matplotlib->pygad) (21.3)\n",
      "Requirement already satisfied: cycler>=0.10 in c:\\python310\\lib\\site-packages (from matplotlib->pygad) (0.11.0)\n",
      "Requirement already satisfied: kiwisolver>=1.0.1 in c:\\python310\\lib\\site-packages (from matplotlib->pygad) (1.3.2)\n",
      "Requirement already satisfied: fonttools>=4.22.0 in c:\\python310\\lib\\site-packages (from matplotlib->pygad) (4.29.0)\n",
      "Requirement already satisfied: six>=1.5 in c:\\python310\\lib\\site-packages (from python-dateutil>=2.7->matplotlib->pygad) (1.16.0)\n",
      "Installing collected packages: pygad\n",
      "Successfully installed pygad-2.16.3\n"
     ]
    },
    {
     "name": "stderr",
     "output_type": "stream",
     "text": [
      "WARNING: You are using pip version 22.0.3; however, version 22.0.4 is available.\n",
      "You should consider upgrading via the 'C:\\Python310\\python.exe -m pip install --upgrade pip' command.\n"
     ]
    }
   ],
   "source": [
    "!pip install pygad"
   ]
  }
 ],
 "metadata": {
  "kernelspec": {
   "display_name": "Python 3 (ipykernel)",
   "language": "python",
   "name": "python3"
  },
  "language_info": {
   "codemirror_mode": {
    "name": "ipython",
    "version": 3
   },
   "file_extension": ".py",
   "mimetype": "text/x-python",
   "name": "python",
   "nbconvert_exporter": "python",
   "pygments_lexer": "ipython3",
   "version": "3.10.1"
  }
 },
 "nbformat": 4,
 "nbformat_minor": 4
}
